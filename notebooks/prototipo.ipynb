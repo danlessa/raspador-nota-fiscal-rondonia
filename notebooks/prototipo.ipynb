{
 "cells": [
  {
   "cell_type": "code",
   "execution_count": 1,
   "metadata": {},
   "outputs": [],
   "source": [
    "import requests as req\n",
    "from requests import Session\n",
    "import json\n",
    "import pandas as pd\n",
    "from tqdm.auto import tqdm"
   ]
  },
  {
   "cell_type": "code",
   "execution_count": 2,
   "metadata": {},
   "outputs": [],
   "source": [
    "df = pd.read_csv('codes_202301081543327.csv')\n",
    "f = lambda x: x.split(\"|\")[0].split(\"p=\")[-1]\n",
    "lista_nfs = df.text.map(f)"
   ]
  },
  {
   "cell_type": "code",
   "execution_count": 3,
   "metadata": {},
   "outputs": [],
   "source": [
    "_CPF = None\n",
    "_PASSWORD = None\n",
    "_TOKEN = None\n",
    "#CHAVE_ACESSO_NFCE = '11221234034195000102650020000136761010457960'\n",
    "_DOAR_PARA_ENTIDADE_ID = '38'"
   ]
  },
  {
   "cell_type": "code",
   "execution_count": 4,
   "metadata": {},
   "outputs": [],
   "source": [
    "def login(CPF: str, PASSWORD: str) -> Session:\n",
    "    URI_LOGIN = 'https://api.notalegal.sefin.ro.gov.br/nota-legal-api/api/v1/auth/login'\n",
    "    body = {'cpf': CPF, 'password': PASSWORD}\n",
    "    s = Session()\n",
    "    r = s.post(URI_LOGIN, body)\n",
    "    response = json.loads(r.text)\n",
    "    status = response.get('status', None)\n",
    "    if status == 200:\n",
    "        TOKEN = response['usuario']['token']\n",
    "        s.headers.update({'Authorization': f\"Bearer {TOKEN}\"})\n",
    "        print(\"Token retrieved! Session updated.\")\n",
    "    else:\n",
    "        print(f'Token Not Retrieved. Status: {status}')\n",
    "    return s\n",
    "\n",
    "\n",
    "def consulta_nfce(s: Session, CHAVE_ACESSO_NFCE: str) -> dict:\n",
    "    URI_CONSULTA_NFCE = f'https://api.notalegal.sefin.ro.gov.br/nota-legal-api/api/v1/nfce/consulta_nfce?chave_acesso_nfce={CHAVE_ACESSO_NFCE}'\n",
    "    r = s.post(URI_CONSULTA_NFCE)\n",
    "    if len(r.text) > 0:\n",
    "        response = json.loads(r.text)\n",
    "        if 'Cupom Fiscal localizado' in response.get('msg', ''):\n",
    "            print(f\"{response['msg']}, valor: {response['nfce']['VL-TOTAL']}, {response['nfce']['SITUACAO']}\")\n",
    "        else:\n",
    "            print(\"Cupom fiscal não localizado. Inspecionar saida\")\n",
    "        return response\n",
    "    else:\n",
    "        print(\"Nenhuma resposta ao tentar consultar\")\n",
    "\n",
    "def doar_nfce(s: Session, CHAVE_ACESSO_NFCE: str, DOAR_PARA_ENTIDADE_ID: str) -> bool:\n",
    "    URI_DOAR_NFCE = 'https://api.notalegal.sefin.ro.gov.br/nota-legal-api/api/v1/doacoes'\n",
    "    body = {\"doacao\": {\"chave_acesso\": CHAVE_ACESSO_NFCE, \"entidade_id\": DOAR_PARA_ENTIDADE_ID}}\n",
    "    r = s.post(URI_DOAR_NFCE, json=body)\n",
    "    if len(r.text) > 0:\n",
    "        response = json.loads(r.text)\n",
    "        if response.get(\"status\", None) == 200:\n",
    "            print(\"NFCE doada\")\n",
    "            return True   \n",
    "        else:\n",
    "            print(\"NFCE já doada\")\n",
    "            return False\n",
    "    print(\"Nenhuma resposta ao tentar doar\")\n",
    "\n",
    "\n",
    "def raspar_nfce(s: Session, CHAVE_ACESSO_NFCE: str):\n",
    "    URI_RASPAR_NFCE = 'https://api.notalegal.sefin.ro.gov.br/nota-legal-api/api/v1/sorteio_raspadinha'\n",
    "    body = {\"chave_acesso_nfce\": CHAVE_ACESSO_NFCE}\n",
    "    r = s.post(URI_RASPAR_NFCE, json=body)\n",
    "    if len(r.text) > 0:\n",
    "        response = json.loads(r.text)\n",
    "        msg = response.get('msgm', \"\")\n",
    "        if \"Não há\" in msg:\n",
    "            print(\"NFCE raspada - não ganhou\")\n",
    "        elif \"O cupom já participou\" in msg:\n",
    "            print(\"NFCE não raspada - já participou\")\n",
    "        else:\n",
    "            print(msg)\n",
    "    else:\n",
    "        print(\"Nenhuma resposta ao tentar raspar\")"
   ]
  },
  {
   "cell_type": "code",
   "execution_count": 5,
   "metadata": {},
   "outputs": [
    {
     "name": "stdout",
     "output_type": "stream",
     "text": [
      "NFCE doada\n",
      "NFCE raspada - não ganhou\n",
      "---\n",
      "11221234034195000102650020000131281077802053\n",
      "Cupom Fiscal localizado., valor: 98.20, leitura_confirmada\n",
      "NFCE doada\n",
      "NFCE raspada - não ganhou\n",
      "---\n",
      "11221234034195000102650020000131271725310910\n",
      "Cupom Fiscal localizado., valor: 48.90, leitura_confirmada\n",
      "NFCE doada\n",
      "NFCE raspada - não ganhou\n",
      "---\n",
      "11221234034195000102650020000131261892154890\n",
      "Cupom Fiscal localizado., valor: 40.90, leitura_confirmada\n",
      "NFCE doada\n",
      "NFCE raspada - não ganhou\n",
      "---\n",
      "11221234034195000102650020000131251449368358\n",
      "Cupom Fiscal localizado., valor: 40.90, leitura_confirmada\n",
      "NFCE doada\n",
      "NFCE raspada - não ganhou\n",
      "---\n",
      "11221234034195000102650020000131241114561345\n",
      "Cupom Fiscal localizado., valor: 48.90, leitura_confirmada\n",
      "NFCE doada\n",
      "NFCE raspada - não ganhou\n",
      "---\n",
      "11221234034195000102650020000131221284629000\n",
      "Cupom Fiscal localizado., valor: 39.90, leitura_confirmada\n",
      "NFCE doada\n",
      "NFCE raspada - não ganhou\n",
      "---\n",
      "11221234034195000102650020000131211559452516\n",
      "Cupom Fiscal localizado., valor: 116.70, leitura_confirmada\n",
      "NFCE doada\n",
      "NFCE raspada - não ganhou\n",
      "---\n",
      "11221234034195000102650020000131201280286260\n",
      "Cupom Fiscal localizado., valor: 30.00, leitura_confirmada\n",
      "NFCE doada\n",
      "NFCE raspada - não ganhou\n",
      "---\n",
      "11221234034195000102650020000131191015212105\n",
      "Cupom Fiscal localizado., valor: 47.00, leitura_confirmada\n",
      "NFCE doada\n",
      "NFCE raspada - não ganhou\n",
      "---\n"
     ]
    }
   ],
   "source": [
    "s = login(_CPF, _PASSWORD)\n",
    "for nf in lista_nfs:\n",
    "    print(nf)\n",
    "    consulta_nfce(s, nf)\n",
    "    doar_nfce(s, nf, _DOAR_PARA_ENTIDADE_ID)\n",
    "    raspar_nfce(s, nf)\n",
    "    print(\"---\")"
   ]
  },
  {
   "cell_type": "code",
   "execution_count": null,
   "metadata": {},
   "outputs": [],
   "source": []
  }
 ],
 "metadata": {
  "kernelspec": {
   "display_name": "base",
   "language": "python",
   "name": "python3"
  },
  "language_info": {
   "codemirror_mode": {
    "name": "ipython",
    "version": 3
   },
   "file_extension": ".py",
   "mimetype": "text/x-python",
   "name": "python",
   "nbconvert_exporter": "python",
   "pygments_lexer": "ipython3",
   "version": "3.9.5 (default, May 18 2021, 12:31:01) \n[Clang 10.0.0 ]"
  },
  "orig_nbformat": 4,
  "vscode": {
   "interpreter": {
    "hash": "e7cb1b9ae4d417fedf7f40a8eec98f7cfbd359e096bd857395a915f4609834ce"
   }
  }
 },
 "nbformat": 4,
 "nbformat_minor": 2
}
